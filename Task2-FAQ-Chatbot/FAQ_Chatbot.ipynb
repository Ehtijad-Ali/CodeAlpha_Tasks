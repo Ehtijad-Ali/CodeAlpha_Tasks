{
  "nbformat": 4,
  "nbformat_minor": 0,
  "metadata": {
    "colab": {
      "provenance": [],
      "gpuType": "T4"
    },
    "kernelspec": {
      "name": "python3",
      "display_name": "Python 3"
    },
    "language_info": {
      "name": "python"
    },
    "accelerator": "GPU"
  },
  "cells": [
    {
      "cell_type": "code",
      "source": [
        "# Step 1: Install the necessary libraries\n",
        "!pip install gradio nltk scikit-learn --quiet"
      ],
      "metadata": {
        "id": "r164SuzeVKFW"
      },
      "execution_count": 1,
      "outputs": []
    },
    {
      "cell_type": "code",
      "source": [
        "# Step 2: Import the required libraries\n",
        "import gradio as gr\n",
        "import nltk\n",
        "import numpy as np\n",
        "from nltk.corpus import stopwords\n",
        "from nltk.tokenize import word_tokenize\n",
        "from sklearn.feature_extraction.text import TfidfVectorizer\n",
        "from sklearn.metrics.pairwise import cosine_similarity\n",
        "import time"
      ],
      "metadata": {
        "id": "6ECESYtjTnMf"
      },
      "execution_count": null,
      "outputs": []
    },
    {
      "cell_type": "code",
      "source": [
        "# Step 3: Download required NLTK data\n",
        "try:\n",
        "    nltk.data.find('tokenizers/punkt')\n",
        "except LookupError:\n",
        "    nltk.download('punkt', quiet=True)\n",
        "try:\n",
        "    nltk.data.find('corpora/stopwords')\n",
        "except LookupError:\n",
        "    nltk.download('stopwords', quiet=True)\n",
        "\n",
        "nltk.download('punkt_tab')"
      ],
      "metadata": {
        "id": "-jQc8pKdTtyu"
      },
      "execution_count": null,
      "outputs": []
    },
    {
      "cell_type": "code",
      "source": [
        "# Define the FAQ Knowledge Base\n",
        "faqs = [\n",
        "    { \"question\": \"What is WordPress?\", \"answer\": \"WordPress is a free and open-source content management system (CMS). It's a popular tool for individuals and businesses to create websites and blogs.\" },\n",
        "    { \"question\": \"Difference between WordPress.com and WordPress.org?\", \"answer\": \"WordPress.org is the self-hosted version where you have full control. WordPress.com is a hosted service that is easier to start with but offers less flexibility.\" },\n",
        "    { \"question\": \"How do I install WordPress?\", \"answer\": \"Most web hosts offer a 'one-click' installation. You can also install it manually by downloading it from WordPress.org and uploading it to your web server.\" },\n",
        "    { \"question\": \"What are plugins?\", \"answer\": \"Plugins are add-ons you can install to add new features to your website, like contact forms, e-commerce stores, or photo galleries.\" },\n",
        "    { \"question\": \"What are themes?\", \"answer\": \"Themes control the visual design and layout of your website. You can easily change your theme to give your site a new look.\" },\n",
        "    { \"question\": \"How do I add a new post or page?\", \"answer\": \"From your dashboard, go to 'Posts' -> 'Add New' for a blog post, or 'Pages' -> 'Add New' for a static page.\" },\n",
        "    { \"question\": \"Is WordPress secure?\", \"answer\": \"The core software is very secure. Security risks usually come from outdated plugins or themes. Always keep everything updated!\" },\n",
        "    { \"question\": \"Can I build an e-commerce store?\", \"answer\": \"Yes, absolutely. Use popular plugins like WooCommerce to turn your WordPress site into a fully functional online store.\" }\n",
        "]"
      ],
      "metadata": {
        "id": "ImJUdjmuTxrc"
      },
      "execution_count": null,
      "outputs": []
    },
    {
      "cell_type": "code",
      "source": [
        "# Define the Text Preprocessing Function\n",
        "def preprocess_text(text):\n",
        "    stop_words = set(stopwords.words('english'))\n",
        "    tokens = word_tokenize(text.lower())\n",
        "    filtered_tokens = [word for word in tokens if word.isalpha() and word not in stop_words]\n",
        "    return \" \".join(filtered_tokens)"
      ],
      "metadata": {
        "id": "qx50NLjlT26j"
      },
      "execution_count": null,
      "outputs": []
    },
    {
      "cell_type": "code",
      "source": [
        "# --- One-time setup for the NLP model ---\n",
        "print(\"Setting up the chatbot model...\")\n",
        "all_questions = [faq[\"question\"] for faq in faqs]\n",
        "processed_questions = [preprocess_text(q) for q in all_questions]\n",
        "vectorizer = TfidfVectorizer()\n",
        "question_vectors = vectorizer.fit_transform(processed_questions)\n",
        "print(\"Chatbot is ready!\")"
      ],
      "metadata": {
        "id": "ERitCKgMT4mr"
      },
      "execution_count": null,
      "outputs": []
    },
    {
      "cell_type": "code",
      "source": [
        "# Define the function that finds the best answer\n",
        "def get_best_answer(user_message):\n",
        "    processed_message = preprocess_text(user_message)\n",
        "    if not processed_message:\n",
        "        return \"Please ask a more specific question.\"\n",
        "\n",
        "    message_vector = vectorizer.transform([processed_message])\n",
        "    similarities = cosine_similarity(message_vector, question_vectors)[0]\n",
        "    most_similar_index = np.argmax(similarities)\n",
        "\n",
        "    if similarities[most_similar_index] > 0.2: # Confidence threshold\n",
        "        return faqs[most_similar_index][\"answer\"]\n",
        "    else:\n",
        "        return \"I'm sorry, I don't have a specific answer for that. Could you please try rephrasing your question?\""
      ],
      "metadata": {
        "id": "rPeTvljNT8EX"
      },
      "execution_count": null,
      "outputs": []
    },
    {
      "cell_type": "code",
      "source": [
        "# This function will handle the chat interaction in the UI\n",
        "def chat_function(message, history):\n",
        "    # Get the response from our simple backend\n",
        "    bot_response = get_best_answer(message)\n",
        "\n",
        "    # Simulate typing for a better user experience\n",
        "    response_with_typing = \"\"\n",
        "    for char in bot_response:\n",
        "        response_with_typing += char\n",
        "        time.sleep(0.02)\n",
        "        # Update the history with the gradually typed response\n",
        "        history[-1] = (message, response_with_typing)\n",
        "        yield history\n",
        "\n",
        "# This function handles clearing the chat\n",
        "def clear_chat_function():\n",
        "    return []\n"
      ],
      "metadata": {
        "id": "Bu0iGK8TUJEL"
      },
      "execution_count": null,
      "outputs": []
    },
    {
      "cell_type": "code",
      "source": [
        "# --- Event Handlers ---\n",
        "\n",
        "    # Function to add the user message to the chat and get the bot's response\n",
        "    def respond(message, chat_history):\n",
        "        # Add the user's message to the chat history\n",
        "        chat_history.append((message, None))\n",
        "        # Use a generator to stream the bot's response\n",
        "        for history_update in chat_function(message, chat_history):\n",
        "            yield history_update\n",
        "\n",
        "    # Connect the textbox submission to the respond function\n",
        "    txt_input.submit(\n",
        "        fn=respond,\n",
        "        inputs=[txt_input, chatbot_window],\n",
        "        outputs=[chatbot_window]\n",
        "    ).then(\n",
        "        # Clear the textbox after submission\n",
        "        lambda: gr.update(value=\"\"), None, [txt_input], queue=False\n",
        "    )\n",
        "\n",
        "    # Connect the clear button to its function\n",
        "    clear_button.click(clear_chat_function, [], [chatbot_window])\n",
        "\n",
        "    # Add examples for users to easily click and try\n",
        "    gr.Examples(\n",
        "        examples=[\n",
        "            \"What are plugins for?\",\n",
        "            \"How do I make an online store?\",\n",
        "            \"How safe is WordPress?\",\n",
        "            \"What is the difference between a post and a page?\"\n",
        "        ],\n",
        "        inputs=txt_input,\n",
        "        label=\"Click an example to ask:\"\n",
        "    )\n",
        "\n",
        "# Launch the Gradio application\n",
        "if __name__ == \"__main__\":\n",
        "    demo.launch(debug=True, share=True)"
      ],
      "metadata": {
        "id": "DABuiiuRUT9_"
      },
      "execution_count": null,
      "outputs": []
    }
  ]
}